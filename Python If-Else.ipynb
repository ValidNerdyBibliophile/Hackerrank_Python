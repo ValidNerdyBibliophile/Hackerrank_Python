{
 "cells": [
  {
   "cell_type": "code",
   "execution_count": 3,
   "id": "choice-triumph",
   "metadata": {},
   "outputs": [
    {
     "name": "stdout",
     "output_type": "stream",
     "text": [
      "55\n",
      "Weird\n"
     ]
    }
   ],
   "source": [
    "# Python If-Else\n",
    "\n",
    "# Task \n",
    "# Given an integer, n, perform the following conditional actions:\n",
    "# If n is odd, print Weird\n",
    "# If n is even and in the inclusive range of 2 to 5, print Not Weird\n",
    "# If n is even and in the inclusive range of 6 to 20, print Weird\n",
    "# If n is even and greater than 20, print Not Weird\n",
    "\n",
    "# Input Format\n",
    "# A single line containing a positive integer, n.\n",
    "\n",
    "# Constraints\n",
    "# 1 <= n <= 100\n",
    "\n",
    "# Output Format\n",
    "# Print Weird if the number is weird; otherwise, print Not Weird.\n",
    "\n",
    "#!/bin/python\n",
    "\n",
    "N = int(input())\n",
    "\n",
    "if (N % 2 != 0):\n",
    "    print (\"Weird\")\n",
    "else:\n",
    "    if (N >= 2 and N <= 5):\n",
    "        print (\"Not Weird\")\n",
    "    elif (N >= 6 and N <= 20):\n",
    "        print (\"Weird\")\n",
    "    elif (N > 20):\n",
    "        print (\"Not Weird\")\n"
   ]
  },
  {
   "cell_type": "code",
   "execution_count": null,
   "id": "cubic-columbia",
   "metadata": {},
   "outputs": [],
   "source": []
  }
 ],
 "metadata": {
  "kernelspec": {
   "display_name": "Python 3",
   "language": "python",
   "name": "python3"
  },
  "language_info": {
   "codemirror_mode": {
    "name": "ipython",
    "version": 3
   },
   "file_extension": ".py",
   "mimetype": "text/x-python",
   "name": "python",
   "nbconvert_exporter": "python",
   "pygments_lexer": "ipython3",
   "version": "3.8.8"
  }
 },
 "nbformat": 4,
 "nbformat_minor": 5
}
