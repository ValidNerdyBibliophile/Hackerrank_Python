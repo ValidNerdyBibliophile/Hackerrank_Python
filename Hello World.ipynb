{
 "cells": [
  {
   "cell_type": "code",
   "execution_count": 1,
   "id": "similar-mechanism",
   "metadata": {},
   "outputs": [
    {
     "name": "stdout",
     "output_type": "stream",
     "text": [
      "Hello, World!\n"
     ]
    }
   ],
   "source": [
    "# Here is a sample line of code that can be executed in Python:\n",
    "# print(\"Hello, World!\")\n",
    "# You can just as easily store a string as a variable and then print it to stdout:\n",
    "my_string = \"Hello, World!\"\n",
    "# print(my_string)\n",
    "# The above code will print Hello, World! on your screen. Try it yourself in the editor below!\n",
    "\n",
    "# Input Format\n",
    "# You do not need to read any input in this challenge.\n",
    "\n",
    "#Output Format\n",
    "# Print Hello, World! to stdout.\n",
    "\n",
    "# Sample Output\n",
    "\n",
    "# Hello, World!\n",
    "\n",
    "# Write your code on the next line. \n",
    "print (my_string)\n"
   ]
  },
  {
   "cell_type": "code",
   "execution_count": null,
   "id": "frozen-clone",
   "metadata": {},
   "outputs": [],
   "source": []
  }
 ],
 "metadata": {
  "kernelspec": {
   "display_name": "Python 3",
   "language": "python",
   "name": "python3"
  },
  "language_info": {
   "codemirror_mode": {
    "name": "ipython",
    "version": 3
   },
   "file_extension": ".py",
   "mimetype": "text/x-python",
   "name": "python",
   "nbconvert_exporter": "python",
   "pygments_lexer": "ipython3",
   "version": "3.8.8"
  }
 },
 "nbformat": 4,
 "nbformat_minor": 5
}
