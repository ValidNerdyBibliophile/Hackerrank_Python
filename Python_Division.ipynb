{
 "cells": [
  {
   "cell_type": "code",
   "execution_count": 4,
   "id": "removable-backing",
   "metadata": {},
   "outputs": [
    {
     "name": "stdout",
     "output_type": "stream",
     "text": [
      "5\n",
      "4\n",
      "1\n",
      "1.25\n"
     ]
    }
   ],
   "source": [
    "# Python: Division\n",
    "\n",
    "# Task \n",
    "# Read two integers and print two lines. The first line should contain integer division, a // b. The second line should contain float\n",
    "# division, a / b.\n",
    "\n",
    "# You don't need to perform any rounding or formatting operations.\n",
    "\n",
    "# Input Format \n",
    "# The first line contains the first integer, a. The second line contains the second integer, b.\n",
    "\n",
    "# Output Format \n",
    "# Print the two lines as described above.\n",
    "\n",
    "# Enter your code here. Read input from STDIN. Print output to STDOUT\n",
    "a = int(input())\n",
    "b = int(input())\n",
    "\n",
    "print (int(a / b))\n",
    "print (float(a / b))\n"
   ]
  },
  {
   "cell_type": "code",
   "execution_count": null,
   "id": "committed-digest",
   "metadata": {},
   "outputs": [],
   "source": []
  }
 ],
 "metadata": {
  "kernelspec": {
   "display_name": "Python 3",
   "language": "python",
   "name": "python3"
  },
  "language_info": {
   "codemirror_mode": {
    "name": "ipython",
    "version": 3
   },
   "file_extension": ".py",
   "mimetype": "text/x-python",
   "name": "python",
   "nbconvert_exporter": "python",
   "pygments_lexer": "ipython3",
   "version": "3.8.8"
  }
 },
 "nbformat": 4,
 "nbformat_minor": 5
}
