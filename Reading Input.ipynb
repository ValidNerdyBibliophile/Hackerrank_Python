{
 "cells": [
  {
   "cell_type": "code",
   "execution_count": 2,
   "id": "electrical-wilson",
   "metadata": {},
   "outputs": [
    {
     "name": "stdout",
     "output_type": "stream",
     "text": [
      "dmdjfdf\n",
      "dmdjfdf\n"
     ]
    }
   ],
   "source": [
    "# Task \n",
    "# Read a line of input from stdin and save it to a variable, s. Then print the contents of s to stdout.\n",
    "\n",
    "# Input Format\n",
    "# A single line containing sentence s.\n",
    "\n",
    "# Constraints\n",
    "# 1 <= s <= 500\n",
    "\n",
    "# Output Format\n",
    "# Print the contents of s to stdout.\n",
    "\n",
    "# Enter your code here. Read input from STDIN. Print output to STDOUT\n",
    "s = input()\n",
    "print (s)\n"
   ]
  },
  {
   "cell_type": "code",
   "execution_count": null,
   "id": "close-observation",
   "metadata": {},
   "outputs": [],
   "source": []
  }
 ],
 "metadata": {
  "kernelspec": {
   "display_name": "Python 3",
   "language": "python",
   "name": "python3"
  },
  "language_info": {
   "codemirror_mode": {
    "name": "ipython",
    "version": 3
   },
   "file_extension": ".py",
   "mimetype": "text/x-python",
   "name": "python",
   "nbconvert_exporter": "python",
   "pygments_lexer": "ipython3",
   "version": "3.8.8"
  }
 },
 "nbformat": 4,
 "nbformat_minor": 5
}
