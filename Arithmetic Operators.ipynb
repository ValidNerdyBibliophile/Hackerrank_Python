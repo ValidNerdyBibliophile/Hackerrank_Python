{
 "cells": [
  {
   "cell_type": "code",
   "execution_count": 1,
   "id": "governing-amplifier",
   "metadata": {},
   "outputs": [
    {
     "name": "stdout",
     "output_type": "stream",
     "text": [
      "5\n",
      "6\n",
      "11\n",
      "-1\n",
      "30\n"
     ]
    }
   ],
   "source": [
    "# Task \n",
    "# Read two integers from STDIN and print three lines where:\n",
    "# The first line contains the sum of the two numbers.\n",
    "# The second line contains the difference of the two numbers (first - second).\n",
    "# The third line contains the product of the two numbers.\n",
    "\n",
    "# Input Format\n",
    "# The first line contains the first integer, a. The second line contains the second integer, b.\n",
    "\n",
    "# Constraints\n",
    "# 1 <= a <= 10**10\n",
    "# 1 <= b <= 10**10\n",
    " \n",
    "# Output Format\n",
    "# Print the three lines as explained above.\n",
    "\n",
    "# Enter your code here. Read input from STDIN. Print output to STDOUT\n",
    "a = int(input())\n",
    "b = int(input())\n",
    "\n",
    "print (a + b)\n",
    "print (a - b)\n",
    "print (a * b)\n"
   ]
  },
  {
   "cell_type": "code",
   "execution_count": null,
   "id": "anonymous-nerve",
   "metadata": {},
   "outputs": [],
   "source": []
  }
 ],
 "metadata": {
  "kernelspec": {
   "display_name": "Python 3",
   "language": "python",
   "name": "python3"
  },
  "language_info": {
   "codemirror_mode": {
    "name": "ipython",
    "version": 3
   },
   "file_extension": ".py",
   "mimetype": "text/x-python",
   "name": "python",
   "nbconvert_exporter": "python",
   "pygments_lexer": "ipython3",
   "version": "3.8.8"
  }
 },
 "nbformat": 4,
 "nbformat_minor": 5
}
